{
 "cells": [
  {
   "cell_type": "markdown",
   "metadata": {},
   "source": [
    "# Web scraping\n",
    "With BeautifulSoup.\n",
    "Given an ingredient, we are looking for recipies and we return a list with their: name, difficulty and preparation time, such as: \"Ultimate chocolate cake, Easy, 2 hours 10 mins\"\n",
    "\n",
    "The code:"
   ]
  },
  {
   "cell_type": "code",
   "execution_count": 1,
   "metadata": {},
   "outputs": [],
   "source": [
    "# imports\n",
    "import sys\n",
    "import csv\n",
    "from os import path\n",
    "import requests\n",
    "from bs4 import BeautifulSoup\n",
    "\n",
    "def parse(html):\n",
    "    '''\n",
    "    Given an html as a BeautifulSoup object with html parser,it will \n",
    "    find the desired recipies and extracts and returns a list of \n",
    "    dictionaries with the necessary information \n",
    "    (name, difficulty and preparation time).\n",
    "    '''\n",
    "    soup = html\n",
    "    \n",
    "    # find all names:\n",
    "    names = soup.find_all(\"p\",\n",
    "        class_=\"text-dark text-truncate w-100 font-weight-bold mb-0 recipe-name\")\n",
    "    \n",
    "    # all cooking times:\n",
    "    times = soup.find_all(\"span\", class_=\"recipe-cooktime\")\n",
    "    \n",
    "    # and all levels of difficulties:\n",
    "    diffi = soup.find_all(\"span\", class_=\"recipe-difficulty\")\n",
    "    \n",
    "    # let's define a list of dictionaries with the info above. \n",
    "    food = []\n",
    "    for i, name in enumerate(names):\n",
    "        food.append({\n",
    "            'name': name.get_text(),\n",
    "            'difficulty': diffi[i].get_text(),\n",
    "            'prep_time': times[i].get_text()\n",
    "            })\n",
    "        \n",
    "    # and let's return it. \n",
    "    return food\n",
    "\n",
    "def write_csv(ingredient, recipes):\n",
    "    '''\n",
    "    It creates (and writes) a csv called like the chosen ingredient. Returns None.\n",
    "    '''\n",
    "    with open(ingredient, 'w') as csvfile:\n",
    "        writer = csv.DictWriter(csvfile, ['name', 'difficulty', 'prep_time'])\n",
    "        # let us include the header, too:\n",
    "        writer.writeheader()\n",
    "        \n",
    "        # let us write each line/element of the list:\n",
    "        for line in recipes:\n",
    "            writer.writerow(line)\n",
    "    return None\n",
    "\n",
    "def scrape_from_internet(ingredient, start=0):\n",
    "    '''\n",
    "    Downloads the response of a query with the chosen ingredient and returns\n",
    "    it as a BeautifulSoup object.\n",
    "    '''\n",
    "    url=f'https://recipes.lewagon.com/?search[query]={ingredient}'\n",
    "    response = requests.get(url,start)\n",
    "    return BeautifulSoup(response.content, \"html.parser\")"
   ]
  },
  {
   "cell_type": "code",
   "execution_count": 2,
   "metadata": {},
   "outputs": [
    {
     "data": {
      "text/plain": [
       "[{'name': '15 Minute Healthy Dark Chocolate Truffles',\n",
       "  'difficulty': 'Very hard',\n",
       "  'prep_time': '45 min'},\n",
       " {'name': '4 Ingredient Raw Peanut Butter Chocolate Cups',\n",
       "  'difficulty': 'Moderate',\n",
       "  'prep_time': '45 min'},\n",
       " {'name': '5 Minute Xocai Chocolate Mug Cake',\n",
       "  'difficulty': 'Moderate',\n",
       "  'prep_time': '45 min'},\n",
       " {'name': 'Avocado Chocolate Bits Frozen Yogurt',\n",
       "  'difficulty': 'Very hard',\n",
       "  'prep_time': '45 min'},\n",
       " {'name': 'Banana Chocolate Chip Cake With Peanut Butter Frosting - gluten free, dairy free, soy free',\n",
       "  'difficulty': 'Very hard',\n",
       "  'prep_time': '45 min'},\n",
       " {'name': 'Banana- Honey Chocolate Chip Bread',\n",
       "  'difficulty': 'Very hard',\n",
       "  'prep_time': '45 min'},\n",
       " {'name': 'Bittersweet Chocolate Ice Cream',\n",
       "  'difficulty': 'Moderate',\n",
       "  'prep_time': '45 min'},\n",
       " {'name': 'Bittersweet chocolate pudding',\n",
       "  'difficulty': 'Moderate',\n",
       "  'prep_time': '45 min'},\n",
       " {'name': 'Brown Sugar Sponge Cookie w/ Chocolate Covered Caramels',\n",
       "  'difficulty': 'Very easy',\n",
       "  'prep_time': '45 min'},\n",
       " {'name': 'Cannoli Ice Cream w. Pistachios & Dark Chocolate',\n",
       "  'difficulty': 'Easy',\n",
       "  'prep_time': '45 min'},\n",
       " {'name': 'Carrot Raisin Chocolate Chip Cookies',\n",
       "  'difficulty': 'Very easy',\n",
       "  'prep_time': '45 min'},\n",
       " {'name': 'Chocolate Almond Bark',\n",
       "  'difficulty': 'Very easy',\n",
       "  'prep_time': '45 min'}]"
      ]
     },
     "execution_count": 2,
     "metadata": {},
     "output_type": "execute_result"
    }
   ],
   "source": [
    "ingredient = 'chocolate'\n",
    "recipes = parse(scrape_from_internet(ingredient))\n",
    "# if we want to have it saved in a csv file:\n",
    "# write_csv(ingredient, recipes)\n",
    "recipes"
   ]
  }
 ],
 "metadata": {
  "kernelspec": {
   "display_name": "Python 3",
   "language": "python",
   "name": "python3"
  },
  "language_info": {
   "codemirror_mode": {
    "name": "ipython",
    "version": 3
   },
   "file_extension": ".py",
   "mimetype": "text/x-python",
   "name": "python",
   "nbconvert_exporter": "python",
   "pygments_lexer": "ipython3",
   "version": "3.8.6"
  }
 },
 "nbformat": 4,
 "nbformat_minor": 4
}
