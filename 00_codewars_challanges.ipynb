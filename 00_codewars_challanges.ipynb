{
 "cells": [
  {
   "cell_type": "markdown",
   "metadata": {},
   "source": [
    "# Challanges\n",
    "The solutions of some codewars challanges, done before and during the bootcamp.\n",
    "\n",
    "## Content\n",
    "1 Make a spiral\n",
    "\n",
    "2 Matrix determinant\n",
    "\n",
    "3 Recover a secret string from random triplets\n",
    "\n",
    "4 Take a 10 minutes walk\n",
    "\n",
    "5 Sum of Intervals"
   ]
  },
  {
   "cell_type": "markdown",
   "metadata": {},
   "source": [
    "# Challanges\n",
    "## 1 Make a spiral\n",
    "https://www.codewars.com/kata/534e01fbbb17187c7e0000c6\n",
    "\n",
    "Given N, to create a spiral of \"0\"s and \".\"s of size $N\\times N$.\n",
    "For $N = 5, 6, 7$ and $8$, the spiral is hardcoded. For $N>8$, we define it recursively calling the function itself for the middle $(N-2) \\times (N-2)$ square, and the pattern of the perimeter easily generated."
   ]
  },
  {
   "cell_type": "code",
   "execution_count": 1,
   "metadata": {},
   "outputs": [],
   "source": [
    "import numpy as np\n",
    "def spiralize(size):\n",
    "    # the recursive part for spirals with N>8:\n",
    "    if size>8:\n",
    "        # the outer part\n",
    "        # set the 1st line, last line, last column, first cloumn 2:end to 1\n",
    "        spiral=np.array([[1] * size] +                                # first line \\\n",
    "                        [[0] * (size - 1) + [1]] +                    # second line \\\n",
    "                        [[1, 1] + [0]*(size - 3) + [1]] +             # third line \\\n",
    "                        [[1] + [0] * (size - 2) + [1]] * (size - 4) + # from the 4th to the (N-1)th line \\\n",
    "                        [[1]*size])                                   # last line \n",
    "\n",
    "        # middle part = spiralize(size-4)\n",
    "        spiral[2:(size-2), 2:(size-2)] = spiralize(size-4)\n",
    "        \n",
    "        # return the ready spiral\n",
    "        return spiral.tolist()\n",
    "\n",
    "    # for N = 5, 6, 7 and 8, hardcoded spirals:\n",
    "    else:\n",
    "        if size == 8:\n",
    "            return [[1,1,1,1,1,1,1,1],\n",
    "                    [0,0,0,0,0,0,0,1],\n",
    "                    [1,1,1,1,1,1,0,1],\n",
    "                    [1,0,0,0,0,1,0,1],\n",
    "                    [1,0,1,0,0,1,0,1],\n",
    "                    [1,0,1,1,1,1,0,1],\n",
    "                    [1,0,0,0,0,0,0,1],\n",
    "                    [1,1,1,1,1,1,1,1]]\n",
    "        if size == 7:\n",
    "            return [[1,1,1,1,1,1,1],#7\n",
    "                    [0,0,0,0,0,0,1],\n",
    "                    [1,1,1,1,1,0,1],\n",
    "                    [1,0,0,0,1,0,1],\n",
    "                    [1,0,1,1,1,0,1],\n",
    "                    [1,0,0,0,0,0,1],\n",
    "                    [1,1,1,1,1,1,1]]#1s and inside 1-spiral5\n",
    "        if size == 6:\n",
    "            return [[1,1,1,1,1,1],#6\n",
    "                    [0,0,0,0,0,1],\n",
    "                    [1,1,1,1,0,1],\n",
    "                    [1,0,0,1,0,1],\n",
    "                    [1,0,0,0,0,1],\n",
    "                    [1,1,1,1,1,1]]\n",
    "        if size == 5:\n",
    "            return [[1,1,1,1,1], #5\n",
    "                    [0,0,0,0,1],\n",
    "                    [1,1,1,0,1],\n",
    "                    [1,0,0,0,1],\n",
    "                    [1,1,1,1,1]]\n",
    "    return -1"
   ]
  },
  {
   "cell_type": "code",
   "execution_count": 2,
   "metadata": {},
   "outputs": [
    {
     "data": {
      "text/plain": [
       "[[1, 1, 1, 1, 1, 1, 1, 1, 1, 1],\n",
       " [0, 0, 0, 0, 0, 0, 0, 0, 0, 1],\n",
       " [1, 1, 1, 1, 1, 1, 1, 1, 0, 1],\n",
       " [1, 0, 0, 0, 0, 0, 0, 1, 0, 1],\n",
       " [1, 0, 1, 1, 1, 1, 0, 1, 0, 1],\n",
       " [1, 0, 1, 0, 0, 1, 0, 1, 0, 1],\n",
       " [1, 0, 1, 0, 0, 0, 0, 1, 0, 1],\n",
       " [1, 0, 1, 1, 1, 1, 1, 1, 0, 1],\n",
       " [1, 0, 0, 0, 0, 0, 0, 0, 0, 1],\n",
       " [1, 1, 1, 1, 1, 1, 1, 1, 1, 1]]"
      ]
     },
     "execution_count": 2,
     "metadata": {},
     "output_type": "execute_result"
    }
   ],
   "source": [
    "spiralize(10)"
   ]
  },
  {
   "cell_type": "markdown",
   "metadata": {},
   "source": [
    "## 2 Matrix determinant\n",
    "https://www.codewars.com/kata/52a382ee44408cea2500074c\n",
    "\n",
    "Given a $N \\times N$ size matrix (as list of lists, or as a 2D numpy array), it calculates its determinant (by calling itself recursively to calculate the determinants of the submatrices)."
   ]
  },
  {
   "cell_type": "code",
   "execution_count": 3,
   "metadata": {},
   "outputs": [],
   "source": [
    "import numpy as np\n",
    "def determinant(matrix):\n",
    "    # for matrices of size 1x1, the determinant equals to the number:\n",
    "    if len(matrix)==1:\n",
    "        return matrix[0][0]\n",
    "    \n",
    "    # let's make sure it's an np.array\n",
    "    matrix=np.array(matrix)\n",
    "\n",
    "    # the chess board method to calculate the determinant:\n",
    "    l=len(matrix)\n",
    "    d=0\n",
    "    for i in range(l):\n",
    "        # let's skip the 0s quickly:\n",
    "        if matrix[i][0]!=0:\n",
    "            d += ((-1)**i) * matrix[i][0] \\\n",
    "                 * determinant(matrix[np.ix_([j for j in range(0,l) if j!=i],range(1,l))])\n",
    "    return d    "
   ]
  },
  {
   "cell_type": "code",
   "execution_count": 4,
   "metadata": {},
   "outputs": [
    {
     "data": {
      "text/plain": [
       "-4"
      ]
     },
     "execution_count": 4,
     "metadata": {},
     "output_type": "execute_result"
    }
   ],
   "source": [
    "A = [[1, 3, 0], [-1, 3, 1], [6, -2, -4]]\n",
    "determinant(A)"
   ]
  },
  {
   "cell_type": "markdown",
   "metadata": {},
   "source": [
    "## 3 Recover a secret string from random triplets\n",
    "https://www.codewars.com/kata/53f40dff5f9d31b813000774\n",
    "\n",
    "There is a secret string which is unknown to you. Given a collection of random triplets from the string, recover the original string.\n",
    "\n",
    "A triplet here is defined as a sequence of three letters such that each letter occurs somewhere before the next in the given string. \"whi\" is a triplet for the string \"whatisup\".\n",
    "\n",
    "As a simplification, you may assume that no letter occurs more than once in the secret string.\n",
    "\n",
    "You can assume nothing about the triplets given to you other than that they are valid triplets and that they contain sufficient information to deduce the original string. In particular, this means that the secret string will never contain letters that do not occur in one of the triplets given to you.\n",
    "\n",
    "**For the solution:** we create all the possible duplets/pairs from given triplets. With that information, we can see which letter had to be the very first one. "
   ]
  },
  {
   "cell_type": "code",
   "execution_count": 5,
   "metadata": {},
   "outputs": [],
   "source": [
    "import numpy as np\n",
    "\n",
    "# a function needed later when decyphering. It finds the first \n",
    "# letter from the possible ones and eliminates the \n",
    "# affected duplets from their list.\n",
    "def takesmallest(dupl, w):\n",
    "    # all duplets to \"d\"\n",
    "    d = dupl\n",
    "    \n",
    "    # a set of all possible letters (as 1st) will go to \"r\"\n",
    "    r = {}\n",
    "    \n",
    "    #letters from w:\n",
    "    for letter in w:\n",
    "        r[letter] = True\n",
    "        \n",
    "    # those appearing in the 2nd place can't be the first ones:\n",
    "    for dd in dupl:\n",
    "        r[dd[1]] = False\n",
    "        \n",
    "    #look for only True   \n",
    "    s=w[0]\n",
    "    i=0\n",
    "    while (not r[s]):\n",
    "        i=i+1\n",
    "        s=w[i]            \n",
    "    w=w[w!=s]\n",
    "    \n",
    "    # we'll return the duplets still needed to solve the problem\n",
    "    ddd=[]\n",
    "    for dd in d:\n",
    "        # let's not include those starting with the chosen letter\n",
    "        if dd[0]!=s:\n",
    "            ddd.append(dd)\n",
    "    d=ddd\n",
    "            \n",
    "    # return the chosen letter, the list of duplets and the rest of the letters.\n",
    "    return (s, d, w)\n",
    "\n",
    "def recoverSecret(triplets):\n",
    "    # \"triplets\" is a list of triplets from the secret string. Return the string.'\n",
    "    \n",
    "    # let's find the pairs:\n",
    "    duplets = []\n",
    "    w = []\n",
    "    for x in triplets:\n",
    "        # let's include all pairs\n",
    "        duplets.append((x[0], x[1]))\n",
    "        duplets.append((x[1], x[2]))\n",
    "        # and all letters\n",
    "        w.append(x[0])\n",
    "        w.append(x[1])\n",
    "        w.append(x[2])\n",
    "        \n",
    "    # let's only take one letter once.\n",
    "    w = np.unique(w)\n",
    "\n",
    "    # First letter: \"smaller\" than all the others\n",
    "    # Let's find it, delete the pairs that include it \n",
    "    # and iterate.\n",
    "    s = \"\"\n",
    "    while duplets != []:\n",
    "        (l, duplets, w) = takesmallest(duplets, w)\n",
    "        s=s+l\n",
    "    s = s + w[0]\n",
    "    return s"
   ]
  },
  {
   "cell_type": "markdown",
   "metadata": {},
   "source": [
    "# 4 Take a 10 minutes walk\n",
    "https://www.codewars.com/kata/54da539698b8a2ad76000228\n",
    "\n",
    "It checks if a string of N, W, S, E (North, West, South, East) is a circular walk, arriving where it has started. For walks longer than 10 steps, only the condition checking the length of \"walk\" has to be removed."
   ]
  },
  {
   "cell_type": "code",
   "execution_count": 6,
   "metadata": {},
   "outputs": [],
   "source": [
    "def is_valid_walk(walk):\n",
    "    #determine if walk is valid\n",
    "    #nswe\n",
    "    if len(walk)!=10:\n",
    "        return False\n",
    "    \n",
    "    # let us calculate the number of Ns, Ws, Ss and Es:\n",
    "    w=sum(1 for i in walk if i=='w')\n",
    "    n=sum(1 for i in walk if i=='n')\n",
    "    s=sum(1 for i in walk if i=='s')\n",
    "    e=sum(1 for i in walk if i=='e')\n",
    "    \n",
    "    # same number of East and West, and same number of North and South \n",
    "    # show us that we are back home\n",
    "    return (w==e)and(n==s)"
   ]
  },
  {
   "cell_type": "code",
   "execution_count": 7,
   "metadata": {},
   "outputs": [
    {
     "name": "stdout",
     "output_type": "stream",
     "text": [
      "False\n",
      "True\n",
      "False\n"
     ]
    }
   ],
   "source": [
    "print(is_valid_walk(\"neeswwwen\"))  # incorrect length\n",
    "print(is_valid_walk(\"neeswwswen\")) # True\n",
    "print(is_valid_walk(\"seeswwswen\")) # False"
   ]
  },
  {
   "cell_type": "markdown",
   "metadata": {},
   "source": [
    "# 5 Sum of Intervals\n",
    "https://www.codewars.com/kata/52b7ed099cdc285c300001cd\n",
    "\n",
    "Write a function that accepts an array of intervals, and returns the sum of all the interval lengths. Overlapping intervals should only be counted once. Intervals are represented by a pair of integers in the form of an array. The first value of the interval will always be less than the second value. Interval example: $[1, 5]$ is an interval from 1 to 5. The length of this interval is 4."
   ]
  },
  {
   "cell_type": "code",
   "execution_count": 8,
   "metadata": {},
   "outputs": [],
   "source": [
    "import numpy as np\n",
    "\n",
    "def sum_of_intervals(intervals):\n",
    "    # let's make sure it's a numpy array:\n",
    "    intervals = np.array(intervals)\n",
    "    \n",
    "    # smallest number of all\n",
    "    min_number = intervals.min()\n",
    "    \n",
    "    # greatest number if all\n",
    "    max_number = intervals.max()\n",
    "    \n",
    "    # list (and numpy array) of 0s with length = max - min + 1:\n",
    "    numbers = np.array([0]*(max_number-min_number+1))\n",
    "\n",
    "    # those number which are covered should be 1\n",
    "    for interval in intervals:\n",
    "        numbers[(interval[0]-min_number):(interval[1]-min_number)]=1\n",
    "        \n",
    "    # the sum of those 1s is just the desired number:\n",
    "    return numbers.sum()"
   ]
  },
  {
   "cell_type": "code",
   "execution_count": 9,
   "metadata": {},
   "outputs": [
    {
     "data": {
      "text/plain": [
       "8"
      ]
     },
     "execution_count": 9,
     "metadata": {},
     "output_type": "execute_result"
    }
   ],
   "source": [
    "sum_of_intervals([[1, 4], [5, 10]])"
   ]
  },
  {
   "cell_type": "code",
   "execution_count": 10,
   "metadata": {},
   "outputs": [
    {
     "data": {
      "text/plain": [
       "8"
      ]
     },
     "execution_count": 10,
     "metadata": {},
     "output_type": "execute_result"
    }
   ],
   "source": [
    "sum_of_intervals([[1,7], [2,6], [10, 12]])"
   ]
  }
 ],
 "metadata": {
  "kernelspec": {
   "display_name": "Python 3",
   "language": "python",
   "name": "python3"
  },
  "language_info": {
   "codemirror_mode": {
    "name": "ipython",
    "version": 3
   },
   "file_extension": ".py",
   "mimetype": "text/x-python",
   "name": "python",
   "nbconvert_exporter": "python",
   "pygments_lexer": "ipython3",
   "version": "3.8.6"
  }
 },
 "nbformat": 4,
 "nbformat_minor": 4
}
